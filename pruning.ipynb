{
 "cells": [
  {
   "cell_type": "markdown",
   "id": "040dc5cb",
   "metadata": {},
   "source": [
    "# Welcome to the pruning script!\n",
    "## Please follow the instructions below to run this script"
   ]
  },
  {
   "cell_type": "code",
   "execution_count": null,
   "id": "1962df2a",
   "metadata": {},
   "outputs": [],
   "source": [
    "%pylab inline\n",
    "import numpy as np\n",
    "import pandas as pd"
   ]
  },
  {
   "cell_type": "code",
   "execution_count": null,
   "id": "5ea92430",
   "metadata": {},
   "outputs": [],
   "source": [
    "# Command to filter out missing and inf values\n",
    "# Rename filename with the path to .vcf.gz\n",
    "filename = \"\"\n",
    "# Rename out with what you want the output files to be called\n",
    "out = \"\"\n",
    "!plink --vcf $filename --indep-pairwise 50 5 0.2 --out $out"
   ]
  },
  {
   "cell_type": "code",
   "execution_count": null,
   "id": "de2f9df6",
   "metadata": {},
   "outputs": [],
   "source": [
    "# Rename filename with the path to .vcf.gz\n",
    "filename = \"\"\n",
    "# Rename with the out.prune.in file outputted by the command above\n",
    "prunein = \"\"\n",
    "# Rename out with what you want the output files to be called\n",
    "out_pruned = \"\"\n",
    "!plink --vcf $filename --double-id --allow-extra-chr --extract $prunein --make-bed --out $out_pruned"
   ]
  },
  {
   "cell_type": "code",
   "execution_count": null,
   "id": "5a8644e2",
   "metadata": {},
   "outputs": [],
   "source": [
    "# Turns the bfiles into vcf\n",
    "# Rename out with the path to the name of the output files from above\n",
    "out_pruned = \"\"\n",
    "# Rename out with the name of the out_vcf file\n",
    "out_data = \"\"\n",
    "!plink --bfile $out_pruned --recode vcf --out $out_data"
   ]
  },
  {
   "cell_type": "code",
   "execution_count": null,
   "id": "4a3e2bc4",
   "metadata": {},
   "outputs": [],
   "source": [
    "# Zips the vcf file\n",
    "# Rename out with the path to the output vcf from above make sure to include .vcf\n",
    "vcf = \"\"\n",
    "# Rename out with the name you want the zipped vcf file to be\n",
    "out_zipped = \"\"\n",
    "!bgzip -c $vcf > $out_zipped"
   ]
  }
 ],
 "metadata": {
  "kernelspec": {
   "display_name": "Python 3 (ipykernel)",
   "language": "python",
   "name": "python3"
  },
  "language_info": {
   "codemirror_mode": {
    "name": "ipython",
    "version": 3
   },
   "file_extension": ".py",
   "mimetype": "text/x-python",
   "name": "python",
   "nbconvert_exporter": "python",
   "pygments_lexer": "ipython3",
   "version": "3.9.5"
  }
 },
 "nbformat": 4,
 "nbformat_minor": 5
}
